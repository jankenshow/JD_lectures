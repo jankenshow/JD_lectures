{
 "cells": [
  {
   "cell_type": "markdown",
   "metadata": {},
   "source": [
    "Today we've learned linear algebra formulas to solve least square regression. Partial differentiation of least square formula will give you the solution formula. Check the transformation yourself and comment on it.\n",
    "\n",
    "Read \"Systems of Linear Equations with Matrix 行列で連立方程式\" and \"PCA with Matrix 行列でPCA\" before the class on May 22."
   ]
  },
  {
   "cell_type": "markdown",
   "metadata": {},
   "source": [
    "The model\n",
    "\n",
    "$$y=\\beta_0+\\beta_1 x + \\beta_2 x_2 + \\cdots + \\beta_{M}x_M$$\n",
    "\n",
    "Combination of linear multiplication of parameter $x_i$ and coefficient $\\beta_i$.\n",
    "\n",
    "The main function to be optimized is\n",
    "\n",
    "$$E(\\beta)=\\frac{1}{2}\\displaystyle\\sum_{i=1}^N(y_i-t_i)^2$$.\n",
    "\n",
    "Matrix form\n",
    "\n",
    "$$\\underset{N\\times 1}{\\boldsymbol{y}}=\\underset{N\\times M}{\\bf{X}}\\underset{M\\times 1}{\\boldsymbol{\\beta}}$$.\n",
    "\n",
    "$$\\begin{eqnarray}\\textrm{minimize}~E(\\beta)&=&||X\\beta-t||^2~\\textrm{formula}\\\\\n",
    "&=&(X\\beta-t)^T(X\\beta-t)~\\textrm{norm form}\\\\\n",
    "&=&(\\beta^TX^T-t^T)(X\\beta-t)~\\textrm{transposition}\\\\\n",
    "&=&(\\beta^TX^TX\\beta-\\beta^TX^Tt-t^TX\\beta+||t||^2)~\\textrm{multiplication}\\end{eqnarray}$$\n",
    "\n",
    "Matrix form partial defferential\n",
    "\n",
    "$$a^Tx=(a_0x_0, a_1x_1, \\cdots, a_nx_n)^T=x^Ta$$\n",
    "\n",
    "$$\\frac{\\partial}{\\partial x}a^Tx=(a0,a_1,\\cdots,a_n)^T=\\frac{\\partial}{\\partial x}x^Ta$$\n",
    "\n",
    "$$\\frac{\\partial}{\\partial x}a^Tx=\\frac{\\partial}{\\partial x}x^Ta=a$$\n",
    "\n",
    "$$\\frac{\\partial}{\\partial x}x^TAx=(A+A^T)x$$\n",
    "\n",
    "Thus, \n",
    "\n",
    "$$\\frac{\\partial}{\\partial \\beta}E(\\beta)= \\frac{1}{2}(X^TX+(X^TX)^T)\\beta-X^Tt\\\\\n",
    "=X^TX\\beta-X^Tt$$\n",
    "\n",
    "$$\\frac{\\partial}{\\partial \\beta}E(\\beta)=0 \\Rightarrow \\beta=(X^TX)^{-1}X^Tt$$"
   ]
  }
 ],
 "metadata": {
  "kernelspec": {
   "display_name": "R",
   "language": "R",
   "name": "ir"
  },
  "language_info": {
   "codemirror_mode": "r",
   "file_extension": ".r",
   "mimetype": "text/x-r-source",
   "name": "R",
   "pygments_lexer": "r",
   "version": "3.4.3"
  }
 },
 "nbformat": 4,
 "nbformat_minor": 2
}
