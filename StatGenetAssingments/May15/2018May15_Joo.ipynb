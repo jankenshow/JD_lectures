{
 "cells": [
  {
   "cell_type": "markdown",
   "metadata": {},
   "source": [
    "# Today we've learned linear algebra formulas to solve least square regression. Partial differentiation of least square formula will give you the solution formula. Check the transformation yourself and comment on it.\n"
   ]
  },
  {
   "cell_type": "markdown",
   "metadata": {},
   "source": [
    "$\n",
    "(x_1,y_1),\\cdots ,(x_n,y_n)\n",
    "$\n",
    "というデータが得られた時に、  \n",
    "Xを説明変数とし、係数aと切片bを用いて\n",
    "$\n",
    "Y \\sim aX + b\n",
    "$\n",
    "という線形回帰モデルで説明したい。"
   ]
  },
  {
   "cell_type": "markdown",
   "metadata": {},
   "source": [
    "最小二乗法で\n",
    "$$\n",
    "\\sum_{i=1}^n (y_i-(ax_i+b))^2\n",
    "$$\n",
    "を最小にするようなa,bの値を求めたい。"
   ]
  },
  {
   "cell_type": "markdown",
   "metadata": {},
   "source": [
    "説明変数が複数ある場合、\n",
    "$$\n",
    "X=\\begin{pmatrix}x_{11} & x_{21} &\\cdots &x_{k1}&1 \\\\ x_{12}& x_{22}&\\cdots &x_{k2}&1\\\\ \\vdots & \\vdots& \\vdots & \\vdots& \\vdots \\\\x_{1n} & x_{2n} &\\cdots & x_{kn}&1\\end{pmatrix}$$"
   ]
  },
  {
   "cell_type": "markdown",
   "metadata": {},
   "source": [
    "$$\n",
    "\\overrightarrow{a}=\\begin{pmatrix}a_1\\\\ a_2\\\\ \\vdots \\\\a_k\\\\b\\end{pmatrix}\n",
    "$$"
   ]
  },
  {
   "cell_type": "markdown",
   "metadata": {},
   "source": [
    "$$\n",
    "\\overrightarrow{y}=\\begin{pmatrix}y_1\\\\y_2\\\\ \\vdots \\\\ y_n\\end{pmatrix}\n",
    "$$"
   ]
  },
  {
   "cell_type": "markdown",
   "metadata": {},
   "source": [
    "とおくと、"
   ]
  },
  {
   "cell_type": "markdown",
   "metadata": {},
   "source": [
    "$$\n",
    "\\overrightarrow{y} \\sim X\\overrightarrow{a} \n",
    "$$\n",
    "であり、"
   ]
  },
  {
   "cell_type": "markdown",
   "metadata": {},
   "source": [
    "$$\n",
    "||\\overrightarrow{y}-X\\mathbf{\\overrightarrow{a}}||^2\n",
    "$$"
   ]
  },
  {
   "cell_type": "markdown",
   "metadata": {},
   "source": [
    "を最小にするようなベクトルaを求める。"
   ]
  },
  {
   "cell_type": "markdown",
   "metadata": {},
   "source": [
    "この式を整理すると、"
   ]
  },
  {
   "cell_type": "markdown",
   "metadata": {},
   "source": [
    "$$\n",
    "\\|y-Xa\\|^2=(Xa-y)^{\\top}(Xa-y)\\\\ \n",
    "=(a^{\\top}X^{\\top}-y^{\\top})(Xa-y)\\\\ \n",
    "=a^{\\top}X^{\\top}Xa-2a^{\\top}X^{\\top}y+y^{\\top}y\n",
    "$$"
   ]
  },
  {
   "cell_type": "markdown",
   "metadata": {},
   "source": [
    "これをaで微分（各要素で偏微分）してゼロになるところが最小値なので、"
   ]
  },
  {
   "cell_type": "markdown",
   "metadata": {},
   "source": [
    "$$\n",
    "2A^{\\top}Xa-2X^{\\top}y=0\n",
    "$$"
   ]
  },
  {
   "cell_type": "markdown",
   "metadata": {},
   "source": [
    "$$\n",
    "X^{\\top}Xa=X^{\\top}y\n",
    "$$"
   ]
  },
  {
   "cell_type": "markdown",
   "metadata": {},
   "source": [
    "$X^{\\top}X$が正則であれば"
   ]
  },
  {
   "cell_type": "markdown",
   "metadata": {},
   "source": [
    "$$a=(X^{\\top}X)^{-1}X^{\\top}y$$\n",
    "が解となり、このベクトルaが最小値を与える。"
   ]
  },
  {
   "cell_type": "code",
   "execution_count": null,
   "metadata": {},
   "outputs": [],
   "source": []
  }
 ],
 "metadata": {
  "kernelspec": {
   "display_name": "R",
   "language": "R",
   "name": "ir"
  }
 },
 "nbformat": 4,
 "nbformat_minor": 2
}
