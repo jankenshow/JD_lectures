{
 "cells": [
  {
   "cell_type": "markdown",
   "metadata": {},
   "source": [
    "Model is as below:\n",
    "$$\n",
    "y \\sim Xa\n",
    "$$\n",
    "Then, least square formula is as below:\n",
    "$$\n",
    "\\|Xa-y\\|^2=(Xa-y)^{\\top}(Xa-y)\\\\ \n",
    "=(a^{\\top}X^{\\top}-y^{\\top})(Xa-y)\\\\ \n",
    "=a^{\\top}X^{\\top}Xa-2a^{\\top}X^{\\top}y+y^{\\top}y\n",
    "$$"
   ]
  },
  {
   "cell_type": "markdown",
   "metadata": {},
   "source": [
    "We use the following facts for above transformation.\n",
    "\n",
    "$y^{\\top}Xa$ is a scalar value,then\n",
    "$$\n",
    "y^{\\top}Xa=(y^{\\top}Xa)^{\\top}\\\\\n",
    "=(Xa)^{\\top}y\n",
    "=a^{\\top}X^{\\top}y\n",
    "$$"
   ]
  },
  {
   "cell_type": "markdown",
   "metadata": {},
   "source": [
    "Next, we conduct partial differentiation in parameter $a$ of least square formula as following.\n",
    "\n",
    "And we want to calculate $a$ this pertial differentiation is zero.\n",
    "\n",
    "$$\n",
    "\\frac{\\partial}{\\partial a}(a^{\\top}X^{\\top}Xa-2a^{\\top}X^{\\top}y+y^{\\top}y)=0\\\\\n",
    "2X^{\\top}Xa - 2X^{\\top}y=0\\\\\n",
    "X^{\\top}Xa=X^{\\top}y\\\\\n",
    "a=(X^{\\top}X)^{-1}X^{\\top}y\n",
    "$$"
   ]
  },
  {
   "cell_type": "code",
   "execution_count": null,
   "metadata": {
    "collapsed": true
   },
   "outputs": [],
   "source": []
  }
 ],
 "metadata": {
  "kernelspec": {
   "display_name": "Python 3",
   "language": "python",
   "name": "python3"
  },
  "language_info": {
   "codemirror_mode": {
    "name": "ipython",
    "version": 3
   },
   "file_extension": ".py",
   "mimetype": "text/x-python",
   "name": "python",
   "nbconvert_exporter": "python",
   "pygments_lexer": "ipython3",
   "version": "3.6.0"
  }
 },
 "nbformat": 4,
 "nbformat_minor": 2
}
