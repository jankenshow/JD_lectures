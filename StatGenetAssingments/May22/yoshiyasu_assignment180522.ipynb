{
 "cells": [
  {
   "cell_type": "markdown",
   "metadata": {},
   "source": [
    " \"ax + by + cz = 0\" represents a plane in 3D space. Generate many points on the plane and draw them in 3D. Also indicate the direction of a vector (a,b,c) in the drawing."
   ]
  },
  {
   "cell_type": "code",
   "execution_count": 1,
   "metadata": {},
   "outputs": [],
   "source": [
    "library(rgl)\n",
    "plot_plane <- function(a,b,c){\n",
    "    N <- matrix(c(a,b,c))\n",
    "    P <- matrix(0,ncol=3,nrow=1000)\n",
    "    for(i in 1:100){\n",
    "        P[i,] <- N * i/100\n",
    "    }\n",
    "    if(a != 0){\n",
    "        for(j in 1:900){\n",
    "            y <- rnorm(1)\n",
    "            z <- rnorm(1)\n",
    "            P[j+100,] <- matrix(c(-(b * y + c * z)/a, y, z))\n",
    "        }\n",
    "    }else{\n",
    "        if(b != 0){\n",
    "            for(j in 1:900){\n",
    "                x <- rnorm(1)\n",
    "                z <- rnorm(1)\n",
    "                P[j+100,] <- matrix(c(x, -(a * x + c * z)/b, z))\n",
    "            }\n",
    "            \n",
    "        }else{\n",
    "            for(j in 1:900){\n",
    "                x <- rnorm(1)\n",
    "                y <- rnorm(1)\n",
    "                P[j+100,] <- matrix(c(x, y, -(a * x + b * y)/c))\n",
    "            }\n",
    "        }\n",
    "    }\n",
    "    w <- abs(a) + abs(b) + abs(c)\n",
    "    plot3d(P, xlim = c(-w,w), ylim = c(-w,w), zlim = c(-w,w) )\n",
    "}"
   ]
  },
  {
   "cell_type": "code",
   "execution_count": null,
   "metadata": {},
   "outputs": [],
   "source": []
  }
 ],
 "metadata": {
  "kernelspec": {
   "display_name": "R",
   "language": "R",
   "name": "ir"
  },
  "language_info": {
   "codemirror_mode": "r",
   "file_extension": ".r",
   "mimetype": "text/x-r-source",
   "name": "R",
   "pygments_lexer": "r",
   "version": "3.4.4"
  }
 },
 "nbformat": 4,
 "nbformat_minor": 2
}
