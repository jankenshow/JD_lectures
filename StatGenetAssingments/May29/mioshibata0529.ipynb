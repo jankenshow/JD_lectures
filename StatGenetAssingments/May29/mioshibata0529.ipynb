{
 "cells": [
  {
   "cell_type": "markdown",
   "metadata": {},
   "source": [
    "## Assignment 0529\n",
    "##### Mio Shibata\n",
    "\n",
    "### Graph theory Analysis of Biological Data in Computational Biology\n",
    "\n",
    " In the fields of molecular biology, many researchers try to find the connection between one factor and another. This relation is not only one to one but also one to some. Some factors can promote others, and some factors can regulate others. Therefore all interactions among those factors are called a network and the network in the biology is very complexed. And those factors include genes, enzymes and proteins and physiological and biochemical properties.\n",
    " There are some problems which researchers face now when using the network. We don't know how to model bio-molecular networks, how to measure centrality and importance in bio-molecular networks, how to identify motifs or functional modules and how to predict bio-molecular networks.\n",
    " First of all, we need to understand what the theory of networks is. Two types of networks are introduced in the article, which are directed and undirected graphs. The simple theory of graph is which node is connected to the other(s) and the more nodes we use, the more complex these combinations are.\n",
    " Second, the establishment of model are difficult, because researchers can detect direct transcriptional regulatory networks but such an interaction change with time. In addition, we have to deal with the complexity of the networks because some factors like proteins or metabolic don't interact directly and all interactions don't always occur. The Robustness is another problem of the network in the biology.\n",
    " Third, the measurement of centrality is also hard because of the complexity. In the article, they discuss the modularity. When we face this problem, we have to think od evolutions. Some modules are discarded because those modules are disadvantages for survival. \n",
    " Forth, some motifs have functions in biological process but there is no way to distinguish each function from the motifs. One of the reasons for that is there is no consensus of the groups of genes and interactions. The frequency of those would help to overcome this problem.\n",
    " Finally, the predictions of networks is very difficult. But if researchers can find the way of prediction, the cost of experiments would be reduced and we can find the unknown interactions that could explain mechanisms easily. Two titles are used for discovering the networks, which are Pathway Inference and Whole-Network Detection.\n",
    " \n",
    " The theory of network can play an important role for finding the interactions during the biological process because the graph-based models can show the global traits, but uncertainty of the interaction prevent researchers to find the complete networks. Multifactorial behaviors also hide the correct network. Hopefully mathematical method will unseal the network with many factors.\n"
   ]
  }
 ],
 "metadata": {
  "kernelspec": {
   "display_name": "Python 3",
   "language": "python",
   "name": "python3"
  },
  "language_info": {
   "codemirror_mode": {
    "name": "ipython",
    "version": 3
   },
   "file_extension": ".py",
   "mimetype": "text/x-python",
   "name": "python",
   "nbconvert_exporter": "python",
   "pygments_lexer": "ipython3",
   "version": "3.6.4"
  }
 },
 "nbformat": 4,
 "nbformat_minor": 2
}
