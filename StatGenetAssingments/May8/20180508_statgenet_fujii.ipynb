{
 "cells": [
  {
   "cell_type": "markdown",
   "metadata": {},
   "source": [
    "(1) Read LinearAlgebra4StatisticalGenetics_4(Least Squares with Matrix) before the class hour on May 15.\n",
    "\n",
    "(2) Report R codes to generate positive-definite matrix, that is the matrix satisfying the features of covariance matrix, i.e., symmetric and all eigenvalues being positive with two ways; (i) by generating data matrix and making its covariance matirix, (ii) by generating a diagonal matrix whose diagonal elements >0 and sandwich it with rotation matrix and its inverse.\n"
   ]
  },
  {
   "cell_type": "code",
   "execution_count": 2,
   "metadata": {},
   "outputs": [
    {
     "data": {
      "text/html": [
       "<table>\n",
       "<tbody>\n",
       "\t<tr><td>0.075560276</td><td>0.004230653</td></tr>\n",
       "\t<tr><td>0.004230653</td><td>0.074693291</td></tr>\n",
       "</tbody>\n",
       "</table>\n"
      ],
      "text/latex": [
       "\\begin{tabular}{ll}\n",
       "\t 0.075560276 & 0.004230653\\\\\n",
       "\t 0.004230653 & 0.074693291\\\\\n",
       "\\end{tabular}\n"
      ],
      "text/markdown": [
       "\n",
       "| 0.075560276 | 0.004230653 | \n",
       "| 0.004230653 | 0.074693291 | \n",
       "\n",
       "\n"
      ],
      "text/plain": [
       "     [,1]        [,2]       \n",
       "[1,] 0.075560276 0.004230653\n",
       "[2,] 0.004230653 0.074693291"
      ]
     },
     "metadata": {},
     "output_type": "display_data"
    }
   ],
   "source": [
    "# (2)\n",
    "# (i) by generating data matrix and making its covariance matirix\n",
    "set.seed(1234)\n",
    "nr <- 10\n",
    "nc <- 2\n",
    "M <- matrix(runif(nc*nr), nr, nc)\n",
    "(Mc <- cov(M))"
   ]
  },
  {
   "cell_type": "code",
   "execution_count": 3,
   "metadata": {},
   "outputs": [
    {
     "data": {
      "text/plain": [
       "eigen() decomposition\n",
       "$values\n",
       "[1] 0.07937959 0.07087398\n",
       "\n",
       "$vectors\n",
       "           [,1]       [,2]\n",
       "[1,] -0.7422705  0.6701004\n",
       "[2,] -0.6701004 -0.7422705\n"
      ]
     },
     "metadata": {},
     "output_type": "display_data"
    }
   ],
   "source": [
    "eigen(Mc)"
   ]
  },
  {
   "cell_type": "code",
   "execution_count": 29,
   "metadata": {},
   "outputs": [
    {
     "name": "stdout",
     "output_type": "stream",
     "text": [
      "[1] 11.37034 62.22994\n"
     ]
    },
    {
     "data": {
      "text/html": [
       "<table>\n",
       "<tbody>\n",
       "\t<tr><td>11.37034</td><td> 0.00000</td></tr>\n",
       "\t<tr><td> 0.00000</td><td>62.22994</td></tr>\n",
       "</tbody>\n",
       "</table>\n"
      ],
      "text/latex": [
       "\\begin{tabular}{ll}\n",
       "\t 11.37034 &  0.00000\\\\\n",
       "\t  0.00000 & 62.22994\\\\\n",
       "\\end{tabular}\n"
      ],
      "text/markdown": [
       "\n",
       "| 11.37034 |  0.00000 | \n",
       "|  0.00000 | 62.22994 | \n",
       "\n",
       "\n"
      ],
      "text/plain": [
       "     [,1]     [,2]    \n",
       "[1,] 11.37034  0.00000\n",
       "[2,]  0.00000 62.22994"
      ]
     },
     "metadata": {},
     "output_type": "display_data"
    }
   ],
   "source": [
    "# (2)\n",
    "# (ii) by generating a diagonal matrix whose diagonal elements > 0\n",
    "set.seed(1234)\n",
    "nr <- 2\n",
    "di <- sort(runif(nr, min=0, max=100))\n",
    "print(di)\n",
    "diagmat <- diag(di, nr)\n",
    "diagmat"
   ]
  },
  {
   "cell_type": "code",
   "execution_count": 30,
   "metadata": {},
   "outputs": [
    {
     "data": {
      "text/html": [
       "<table>\n",
       "<tbody>\n",
       "\t<tr><td>0.6092747</td><td>0.8609154</td></tr>\n",
       "\t<tr><td>0.6233794</td><td>0.6403106</td></tr>\n",
       "</tbody>\n",
       "</table>\n"
      ],
      "text/latex": [
       "\\begin{tabular}{ll}\n",
       "\t 0.6092747 & 0.8609154\\\\\n",
       "\t 0.6233794 & 0.6403106\\\\\n",
       "\\end{tabular}\n"
      ],
      "text/markdown": [
       "\n",
       "| 0.6092747 | 0.8609154 | \n",
       "| 0.6233794 | 0.6403106 | \n",
       "\n",
       "\n"
      ],
      "text/plain": [
       "     [,1]      [,2]     \n",
       "[1,] 0.6092747 0.8609154\n",
       "[2,] 0.6233794 0.6403106"
      ]
     },
     "metadata": {},
     "output_type": "display_data"
    },
    {
     "data": {
      "text/html": [
       "<table>\n",
       "<tbody>\n",
       "\t<tr><td>-3.80850 </td><td> 5.120634</td></tr>\n",
       "\t<tr><td> 4.56385 </td><td>-4.460588</td></tr>\n",
       "</tbody>\n",
       "</table>\n"
      ],
      "text/latex": [
       "\\begin{tabular}{ll}\n",
       "\t -3.80850  &  5.120634\\\\\n",
       "\t  4.56385  & -4.460588\\\\\n",
       "\\end{tabular}\n"
      ],
      "text/markdown": [
       "\n",
       "| -3.80850  |  5.120634 | \n",
       "|  4.56385  | -4.460588 | \n",
       "\n",
       "\n"
      ],
      "text/plain": [
       "     [,1]     [,2]     \n",
       "[1,] -3.80850  5.120634\n",
       "[2,]  4.56385 -4.460588"
      ]
     },
     "metadata": {},
     "output_type": "display_data"
    }
   ],
   "source": [
    "# 回転行列を与える\n",
    "(P <- matrix(runif(nr*nr), nr))\n",
    "P <- sweep(P, 2, apply(P, 2, norm, type=\"2\"), \"/\")\n",
    "# 転置\n",
    "(Pi <- solve(P))"
   ]
  },
  {
   "cell_type": "code",
   "execution_count": 31,
   "metadata": {},
   "outputs": [
    {
     "data": {
      "text/plain": [
       "eigen() decomposition\n",
       "$values\n",
       "[1] 62.22994 11.37034\n",
       "\n",
       "$vectors\n",
       "          [,1]      [,2]\n",
       "[1,] 0.8023986 0.6989699\n",
       "[2,] 0.5967884 0.7151511\n"
      ]
     },
     "metadata": {},
     "output_type": "display_data"
    },
    {
     "data": {
      "text/html": [
       "<table>\n",
       "<tbody>\n",
       "\t<tr><td>0.6989699</td><td>0.8023986</td></tr>\n",
       "\t<tr><td>0.7151511</td><td>0.5967884</td></tr>\n",
       "</tbody>\n",
       "</table>\n"
      ],
      "text/latex": [
       "\\begin{tabular}{ll}\n",
       "\t 0.6989699 & 0.8023986\\\\\n",
       "\t 0.7151511 & 0.5967884\\\\\n",
       "\\end{tabular}\n"
      ],
      "text/markdown": [
       "\n",
       "| 0.6989699 | 0.8023986 | \n",
       "| 0.7151511 | 0.5967884 | \n",
       "\n",
       "\n"
      ],
      "text/plain": [
       "     [,1]      [,2]     \n",
       "[1,] 0.6989699 0.8023986\n",
       "[2,] 0.7151511 0.5967884"
      ]
     },
     "metadata": {},
     "output_type": "display_data"
    }
   ],
   "source": [
    "# 固有値分解の分解式\n",
    "M <- P %*% diagmat %*% Pi\n",
    "\n",
    "(ei <- eigen(M))\n",
    "\n",
    "# 回転行列としてノルムが1 になるように\n",
    "(Pn <- sweep(P, 2, apply(P, 2, norm, type=\"2\"), \"/\"))"
   ]
  }
 ],
 "metadata": {
  "kernelspec": {
   "display_name": "R",
   "language": "R",
   "name": "ir"
  },
  "language_info": {
   "codemirror_mode": "r",
   "file_extension": ".r",
   "mimetype": "text/x-r-source",
   "name": "R",
   "pygments_lexer": "r",
   "version": "3.4.4"
  }
 },
 "nbformat": 4,
 "nbformat_minor": 2
}
